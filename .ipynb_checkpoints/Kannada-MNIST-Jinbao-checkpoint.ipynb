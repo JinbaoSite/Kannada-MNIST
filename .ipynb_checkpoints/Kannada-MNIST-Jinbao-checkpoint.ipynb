{
 "cells": [
  {
   "cell_type": "code",
   "execution_count": 1,
   "metadata": {
    "_cell_guid": "b1076dfc-b9ad-4769-8c92-a6c4dae69d19",
    "_uuid": "8f2839f25d086af736a60e9eeb907d3b93b6e0e5"
   },
   "outputs": [
    {
     "name": "stdout",
     "output_type": "stream",
     "text": [
      "/kaggle/input/Kannada-MNIST/sample_submission.csv\n",
      "/kaggle/input/Kannada-MNIST/train.csv\n",
      "/kaggle/input/Kannada-MNIST/Dig-MNIST.csv\n",
      "/kaggle/input/Kannada-MNIST/test.csv\n"
     ]
    }
   ],
   "source": [
    "# This Python 3 environment comes with many helpful analytics libraries installed\n",
    "# It is defined by the kaggle/python docker image: https://github.com/kaggle/docker-python\n",
    "# For example, here's several helpful packages to load in \n",
    "\n",
    "import numpy as np # linear algebra\n",
    "import pandas as pd # data processing, CSV file I/O (e.g. pd.read_csv)\n",
    "\n",
    "# Input data files are available in the \"../input/\" directory.\n",
    "# For example, running this (by clicking run or pressing Shift+Enter) will list all files under the input directory\n",
    "\n",
    "import os\n",
    "for dirname, _, filenames in os.walk('/kaggle/input'):\n",
    "    for filename in filenames:\n",
    "        print(os.path.join(dirname, filename))\n",
    "\n",
    "# Any results you write to the current directory are saved as output."
   ]
  },
  {
   "cell_type": "code",
   "execution_count": 2,
   "metadata": {
    "_cell_guid": "79c7e3d0-c299-4dcb-8224-4455121ee9b0",
    "_uuid": "d629ff2d2480ee46fbb7e2d37f6b5fab8052498a"
   },
   "outputs": [
    {
     "name": "stdout",
     "output_type": "stream",
     "text": [
      "CPU times: user 3.13 s, sys: 632 ms, total: 3.76 s\n",
      "Wall time: 3.85 s\n"
     ]
    }
   ],
   "source": [
    "%%time\n",
    "train_data = pd.read_csv('/kaggle/input/Kannada-MNIST/train.csv')\n",
    "test_data = pd.read_csv('/kaggle/input/Kannada-MNIST/test.csv')"
   ]
  },
  {
   "cell_type": "code",
   "execution_count": 3,
   "metadata": {},
   "outputs": [
    {
     "data": {
      "text/plain": [
       "label\n",
       "0    6000\n",
       "1    6000\n",
       "2    6000\n",
       "3    6000\n",
       "4    6000\n",
       "5    6000\n",
       "6    6000\n",
       "7    6000\n",
       "8    6000\n",
       "9    6000\n",
       "dtype: int64"
      ]
     },
     "execution_count": 3,
     "metadata": {},
     "output_type": "execute_result"
    }
   ],
   "source": [
    "train_data.groupby(by='label').size()"
   ]
  },
  {
   "cell_type": "code",
   "execution_count": 4,
   "metadata": {},
   "outputs": [],
   "source": [
    "IMG_SIZE = 28"
   ]
  },
  {
   "cell_type": "code",
   "execution_count": 5,
   "metadata": {},
   "outputs": [
    {
     "name": "stderr",
     "output_type": "stream",
     "text": [
      "Using TensorFlow backend.\n"
     ]
    },
    {
     "name": "stdout",
     "output_type": "stream",
     "text": [
      "img_train.shape =  (60000, 28, 28, 1)\n",
      "img_label.shape =  (60000, 10)\n",
      "img_test.shape =  (5000, 28, 28, 1)\n"
     ]
    }
   ],
   "source": [
    "from keras.utils import to_categorical\n",
    "img_train = train_data.drop([\"label\"], axis=1).values.reshape(-1, IMG_SIZE, IMG_SIZE, 1).astype('float32')\n",
    "img_label = to_categorical(train_data[\"label\"])\n",
    "\n",
    "img_test = test_data.drop([\"id\"], axis=1).values.reshape(-1, IMG_SIZE, IMG_SIZE, 1).astype('float32')\n",
    "\n",
    "print(\"img_train.shape = \", img_train.shape)\n",
    "print(\"img_label.shape = \", img_label.shape)\n",
    "print(\"img_test.shape = \", img_test.shape)"
   ]
  },
  {
   "cell_type": "code",
   "execution_count": 6,
   "metadata": {},
   "outputs": [
    {
     "name": "stdout",
     "output_type": "stream",
     "text": [
      "x_train.shape =  (51000, 28, 28, 1)\n",
      "y_train.shape =  (51000, 10)\n",
      "x_test.shape =  (9000, 28, 28, 1)\n",
      "y_test.shape =  (9000, 10)\n"
     ]
    }
   ],
   "source": [
    "from sklearn.model_selection import train_test_split\n",
    "\n",
    "x_train, x_test, y_train, y_test = train_test_split(img_train, img_label, test_size=0.15)\n",
    "print(\"x_train.shape = \", x_train.shape)\n",
    "print(\"y_train.shape = \", y_train.shape)\n",
    "print(\"x_test.shape = \", x_test.shape)\n",
    "print(\"y_test.shape = \", y_test.shape)"
   ]
  },
  {
   "cell_type": "code",
   "execution_count": 7,
   "metadata": {},
   "outputs": [],
   "source": [
    "import keras\n",
    "from keras.datasets import mnist\n",
    "from keras.layers import Input, Dense, Dropout, Flatten, add\n",
    "from keras.layers import Conv2D, Activation, MaxPooling2D, AveragePooling2D\n",
    "from keras import backend as K\n",
    "from keras.callbacks import ModelCheckpoint\n",
    "import tensorflow as tf\n",
    "from keras.models import Model\n",
    "from keras.utils import plot_model\n",
    "from keras.preprocessing. image import ImageDataGenerator\n",
    "from keras.callbacks import ModelCheckpoint\n",
    "from keras.optimizers import Adam\n",
    "from keras.preprocessing.image import ImageDataGenerator\n",
    "from keras.layers import Input, Dense, PReLU, Dropout\n",
    "from keras.models import Model\n",
    "from keras.callbacks import LearningRateScheduler, ModelCheckpoint, TensorBoard, EarlyStopping, ReduceLROnPlateau\n",
    "from keras.optimizers import SGD, Adam"
   ]
  },
  {
   "cell_type": "code",
   "execution_count": 8,
   "metadata": {},
   "outputs": [],
   "source": [
    "def res_block(x, channels, i):\n",
    "    if i == 1:\n",
    "        strides = (1, 1)\n",
    "        x_add = x\n",
    "    else:\n",
    "        strides = (2, 2)\n",
    "        x_add = Conv2D(channels,\n",
    "                       kernel_size=(3, 3),\n",
    "                       activation='relu',\n",
    "                       padding='same',\n",
    "                       strides=strides)(x)\n",
    " \n",
    "    x = Conv2D(channels,\n",
    "               kernel_size=(3, 3),\n",
    "               activation='relu',\n",
    "               padding='same')(x)\n",
    "    x = Conv2D(channels,\n",
    "               kernel_size=(3, 3),\n",
    "               padding='same',\n",
    "               strides=strides)(x)\n",
    "    x = add([x, x_add])\n",
    "    Activation(K.relu)(x)\n",
    "    return x"
   ]
  },
  {
   "cell_type": "code",
   "execution_count": 9,
   "metadata": {},
   "outputs": [],
   "source": [
    "def build_model(input_shape=(28, 28, 1), classes = 10):\n",
    "    input_layer = Input(shape=input_shape)\n",
    "    x = Conv2D(16, kernel_size=(7, 7), activation='relu', input_shape=input_shape, padding='same')(input_layer)\n",
    "    for i in range(2):\n",
    "        x = res_block(x, 16, i)\n",
    " \n",
    "    for i in range(2):\n",
    "        x = res_block(x, 32, i)\n",
    " \n",
    "    x = AveragePooling2D(pool_size=(7, 7))(x)\n",
    "    x = Flatten()(x)\n",
    "    x = Dense(512, activation='relu')(x)\n",
    "    x = Dropout(0.5)(x)\n",
    "    x = Dense(classes, activation='softmax')(x)\n",
    "\n",
    "    model = Model(inputs=input_layer, outputs=x)\n",
    "    return model"
   ]
  },
  {
   "cell_type": "code",
   "execution_count": 10,
   "metadata": {},
   "outputs": [],
   "source": [
    "model = build_model(input_shape=(28, 28, 1), classes = 10)"
   ]
  },
  {
   "cell_type": "code",
   "execution_count": 11,
   "metadata": {},
   "outputs": [],
   "source": [
    "train_datagen = ImageDataGenerator(\n",
    "    rotation_range=9, \n",
    "    zoom_range=0.25, \n",
    "    width_shift_range=0.25, \n",
    "    height_shift_range=0.25,\n",
    "    rescale=1./255\n",
    ")\n",
    "train_datagen.fit(x_train)\n",
    "test_datagen = ImageDataGenerator(rescale=1./255)\n",
    "adam = Adam(lr=0.002, beta_1=0.9, beta_2=0.999, epsilon=None, decay=0.0, amsgrad=False)\n",
    "learning_rate_reduction = ReduceLROnPlateau(monitor='val_acc', patience=5, verbose=1, factor=0.5, min_lr=0.00001)\n",
    "checkpoint = ModelCheckpoint(\"bestmodel.model\", monitor='val_acc', verbose=1, save_best_only=True)\n",
    "earlyStopping = EarlyStopping(monitor='val_acc', patience=15, verbose=1, mode='min')"
   ]
  },
  {
   "cell_type": "code",
   "execution_count": 15,
   "metadata": {},
   "outputs": [],
   "source": [
    "model.compile(loss='categorical_crossentropy', optimizer=adam, metrics=['accuracy'])"
   ]
  },
  {
   "cell_type": "code",
   "execution_count": 13,
   "metadata": {},
   "outputs": [],
   "source": [
    "epochs = 50\n",
    "batch_size = 64"
   ]
  },
  {
   "cell_type": "code",
   "execution_count": 16,
   "metadata": {},
   "outputs": [
    {
     "name": "stdout",
     "output_type": "stream",
     "text": [
      "Epoch 1/50\n",
      "796/796 [==============================] - 17s 21ms/step - loss: 0.1219 - acc: 0.9663 - val_loss: 0.0342 - val_acc: 0.9911\n",
      "Epoch 2/50\n",
      "796/796 [==============================] - 16s 20ms/step - loss: 0.0695 - acc: 0.9789 - val_loss: 0.0309 - val_acc: 0.9940\n",
      "Epoch 3/50\n",
      "796/796 [==============================] - 16s 20ms/step - loss: 0.0676 - acc: 0.9801 - val_loss: 0.0308 - val_acc: 0.9928\n",
      "Epoch 4/50\n",
      "796/796 [==============================] - 16s 20ms/step - loss: 0.0653 - acc: 0.9814 - val_loss: 0.0189 - val_acc: 0.9935\n",
      "Epoch 5/50\n",
      "796/796 [==============================] - 15s 19ms/step - loss: 0.0639 - acc: 0.9807 - val_loss: 0.0214 - val_acc: 0.9944\n",
      "Epoch 6/50\n",
      "796/796 [==============================] - 15s 19ms/step - loss: 0.0636 - acc: 0.9810 - val_loss: 0.0451 - val_acc: 0.9873\n",
      "Epoch 7/50\n",
      "796/796 [==============================] - 16s 20ms/step - loss: 0.0660 - acc: 0.9808 - val_loss: 0.0221 - val_acc: 0.9942\n",
      "Epoch 8/50\n",
      "796/796 [==============================] - 16s 20ms/step - loss: 0.0616 - acc: 0.9818 - val_loss: 0.0308 - val_acc: 0.9933\n",
      "Epoch 9/50\n",
      "796/796 [==============================] - 15s 19ms/step - loss: 0.0602 - acc: 0.9823 - val_loss: 0.0269 - val_acc: 0.9930\n",
      "Epoch 10/50\n",
      "796/796 [==============================] - 16s 19ms/step - loss: 0.0614 - acc: 0.9822 - val_loss: 0.0324 - val_acc: 0.9933\n",
      "\n",
      "Epoch 00010: ReduceLROnPlateau reducing learning rate to 0.0010000000474974513.\n",
      "Epoch 11/50\n",
      "796/796 [==============================] - 16s 20ms/step - loss: 0.0413 - acc: 0.9866 - val_loss: 0.0226 - val_acc: 0.9953\n",
      "Epoch 12/50\n",
      "796/796 [==============================] - 16s 20ms/step - loss: 0.0426 - acc: 0.9873 - val_loss: 0.0160 - val_acc: 0.9953\n",
      "Epoch 13/50\n",
      "796/796 [==============================] - 16s 20ms/step - loss: 0.0409 - acc: 0.9870 - val_loss: 0.0166 - val_acc: 0.9957\n",
      "Epoch 14/50\n",
      "796/796 [==============================] - 16s 20ms/step - loss: 0.0392 - acc: 0.9878 - val_loss: 0.0177 - val_acc: 0.9935\n",
      "Epoch 15/50\n",
      "796/796 [==============================] - 16s 20ms/step - loss: 0.0386 - acc: 0.9884 - val_loss: 0.0216 - val_acc: 0.9946\n",
      "Epoch 16/50\n",
      "796/796 [==============================] - 16s 20ms/step - loss: 0.0392 - acc: 0.9880 - val_loss: 0.0175 - val_acc: 0.9955\n",
      "Epoch 17/50\n",
      "796/796 [==============================] - 16s 20ms/step - loss: 0.0389 - acc: 0.9881 - val_loss: 0.0218 - val_acc: 0.9948\n",
      "Epoch 18/50\n",
      "796/796 [==============================] - 16s 20ms/step - loss: 0.0428 - acc: 0.9871 - val_loss: 0.0238 - val_acc: 0.9942\n",
      "\n",
      "Epoch 00018: ReduceLROnPlateau reducing learning rate to 0.0005000000237487257.\n",
      "Epoch 19/50\n",
      "796/796 [==============================] - 16s 20ms/step - loss: 0.0346 - acc: 0.9888 - val_loss: 0.0231 - val_acc: 0.9951\n",
      "Epoch 20/50\n",
      "796/796 [==============================] - 16s 20ms/step - loss: 0.0337 - acc: 0.9896 - val_loss: 0.0118 - val_acc: 0.9962\n",
      "Epoch 21/50\n",
      "796/796 [==============================] - 16s 20ms/step - loss: 0.0297 - acc: 0.9905 - val_loss: 0.0139 - val_acc: 0.9955\n",
      "Epoch 22/50\n",
      "796/796 [==============================] - 16s 20ms/step - loss: 0.0309 - acc: 0.9905 - val_loss: 0.0193 - val_acc: 0.9964\n",
      "Epoch 23/50\n",
      "796/796 [==============================] - 16s 20ms/step - loss: 0.0302 - acc: 0.9902 - val_loss: 0.0198 - val_acc: 0.9962\n",
      "Epoch 24/50\n",
      "796/796 [==============================] - 16s 20ms/step - loss: 0.0287 - acc: 0.9911 - val_loss: 0.0221 - val_acc: 0.9953\n",
      "Epoch 25/50\n",
      "796/796 [==============================] - 16s 20ms/step - loss: 0.0285 - acc: 0.9912 - val_loss: 0.0189 - val_acc: 0.9948\n",
      "Epoch 26/50\n",
      "796/796 [==============================] - 16s 20ms/step - loss: 0.0288 - acc: 0.9906 - val_loss: 0.0147 - val_acc: 0.9962\n",
      "Epoch 27/50\n",
      "796/796 [==============================] - 16s 20ms/step - loss: 0.0276 - acc: 0.9909 - val_loss: 0.0196 - val_acc: 0.9964\n",
      "\n",
      "Epoch 00027: ReduceLROnPlateau reducing learning rate to 0.0002500000118743628.\n",
      "Epoch 28/50\n",
      "796/796 [==============================] - 16s 20ms/step - loss: 0.0261 - acc: 0.9912 - val_loss: 0.0188 - val_acc: 0.9949\n",
      "Epoch 29/50\n",
      "796/796 [==============================] - 16s 20ms/step - loss: 0.0258 - acc: 0.9916 - val_loss: 0.0157 - val_acc: 0.9957\n",
      "Epoch 30/50\n",
      "796/796 [==============================] - 16s 20ms/step - loss: 0.0255 - acc: 0.9917 - val_loss: 0.0210 - val_acc: 0.9971\n",
      "Epoch 31/50\n",
      "796/796 [==============================] - 16s 20ms/step - loss: 0.0269 - acc: 0.9908 - val_loss: 0.0197 - val_acc: 0.9951\n",
      "Epoch 32/50\n",
      "796/796 [==============================] - 16s 20ms/step - loss: 0.0271 - acc: 0.9912 - val_loss: 0.0088 - val_acc: 0.9978\n",
      "Epoch 33/50\n",
      "796/796 [==============================] - 16s 20ms/step - loss: 0.0259 - acc: 0.9919 - val_loss: 0.0346 - val_acc: 0.9946\n",
      "Epoch 34/50\n",
      "796/796 [==============================] - 16s 21ms/step - loss: 0.0255 - acc: 0.9918 - val_loss: 0.0121 - val_acc: 0.9969\n",
      "Epoch 35/50\n",
      "796/796 [==============================] - 16s 20ms/step - loss: 0.0249 - acc: 0.9921 - val_loss: 0.0156 - val_acc: 0.9969\n",
      "Epoch 36/50\n",
      "796/796 [==============================] - 16s 20ms/step - loss: 0.0239 - acc: 0.9921 - val_loss: 0.0221 - val_acc: 0.9971\n",
      "Epoch 37/50\n",
      "796/796 [==============================] - 16s 20ms/step - loss: 0.0255 - acc: 0.9918 - val_loss: 0.0094 - val_acc: 0.9982\n",
      "Epoch 38/50\n",
      "796/796 [==============================] - 16s 20ms/step - loss: 0.0258 - acc: 0.9919 - val_loss: 0.0209 - val_acc: 0.9958\n",
      "Epoch 39/50\n",
      "796/796 [==============================] - 16s 20ms/step - loss: 0.0251 - acc: 0.9921 - val_loss: 0.0109 - val_acc: 0.9955\n",
      "Epoch 40/50\n",
      "796/796 [==============================] - 16s 20ms/step - loss: 0.0242 - acc: 0.9922 - val_loss: 0.0184 - val_acc: 0.9971\n",
      "Epoch 41/50\n",
      "796/796 [==============================] - 16s 20ms/step - loss: 0.0242 - acc: 0.9927 - val_loss: 0.0234 - val_acc: 0.9942\n",
      "Epoch 42/50\n",
      "796/796 [==============================] - 16s 20ms/step - loss: 0.0236 - acc: 0.9924 - val_loss: 0.0230 - val_acc: 0.9960\n",
      "\n",
      "Epoch 00042: ReduceLROnPlateau reducing learning rate to 0.0001250000059371814.\n",
      "Epoch 43/50\n",
      "796/796 [==============================] - 16s 20ms/step - loss: 0.0215 - acc: 0.9930 - val_loss: 0.0159 - val_acc: 0.9966\n",
      "Epoch 44/50\n",
      "796/796 [==============================] - 16s 20ms/step - loss: 0.0219 - acc: 0.9926 - val_loss: 0.0225 - val_acc: 0.9958\n",
      "Epoch 45/50\n",
      "796/796 [==============================] - 16s 20ms/step - loss: 0.0211 - acc: 0.9930 - val_loss: 0.0248 - val_acc: 0.9953\n",
      "Epoch 46/50\n",
      "796/796 [==============================] - 16s 20ms/step - loss: 0.0205 - acc: 0.9933 - val_loss: 0.0109 - val_acc: 0.9969\n",
      "Epoch 47/50\n",
      "796/796 [==============================] - 16s 20ms/step - loss: 0.0222 - acc: 0.9934 - val_loss: 0.0113 - val_acc: 0.9964\n",
      "\n",
      "Epoch 00047: ReduceLROnPlateau reducing learning rate to 6.25000029685907e-05.\n",
      "Epoch 48/50\n",
      "796/796 [==============================] - 16s 20ms/step - loss: 0.0224 - acc: 0.9928 - val_loss: 0.0177 - val_acc: 0.9964\n",
      "Epoch 49/50\n",
      "796/796 [==============================] - 16s 20ms/step - loss: 0.0203 - acc: 0.9931 - val_loss: 0.0211 - val_acc: 0.9955\n",
      "Epoch 50/50\n",
      "796/796 [==============================] - 16s 20ms/step - loss: 0.0214 - acc: 0.9927 - val_loss: 0.0206 - val_acc: 0.9964\n"
     ]
    }
   ],
   "source": [
    "history = model.fit_generator(\n",
    "    train_datagen.flow(x_train, y_train, batch_size=batch_size),\n",
    "    steps_per_epoch=x_train.shape[0] // batch_size,\n",
    "    epochs=epochs,\n",
    "    validation_data=test_datagen.flow(x_test, y_test),\n",
    "    validation_steps=x_test.shape[0] // batch_size,\n",
    "    callbacks=[checkpoint, learning_rate_reduction])"
   ]
  },
  {
   "cell_type": "code",
   "execution_count": 17,
   "metadata": {},
   "outputs": [],
   "source": [
    "model.load_weights('bestmodel.model')"
   ]
  },
  {
   "cell_type": "code",
   "execution_count": 18,
   "metadata": {},
   "outputs": [],
   "source": [
    "results=model.predict(img_test/255.0)"
   ]
  },
  {
   "cell_type": "code",
   "execution_count": 19,
   "metadata": {},
   "outputs": [],
   "source": [
    "results=np.argmax(results, axis=1)"
   ]
  },
  {
   "cell_type": "code",
   "execution_count": 20,
   "metadata": {},
   "outputs": [],
   "source": [
    "dg=pd.DataFrame()\n",
    "dg['id']=list(test_data.values[0:,0])\n",
    "dg['label']=results"
   ]
  },
  {
   "cell_type": "code",
   "execution_count": 21,
   "metadata": {},
   "outputs": [
    {
     "data": {
      "text/html": [
       "<div>\n",
       "<style scoped>\n",
       "    .dataframe tbody tr th:only-of-type {\n",
       "        vertical-align: middle;\n",
       "    }\n",
       "\n",
       "    .dataframe tbody tr th {\n",
       "        vertical-align: top;\n",
       "    }\n",
       "\n",
       "    .dataframe thead th {\n",
       "        text-align: right;\n",
       "    }\n",
       "</style>\n",
       "<table border=\"1\" class=\"dataframe\">\n",
       "  <thead>\n",
       "    <tr style=\"text-align: right;\">\n",
       "      <th></th>\n",
       "      <th>id</th>\n",
       "      <th>label</th>\n",
       "    </tr>\n",
       "  </thead>\n",
       "  <tbody>\n",
       "    <tr>\n",
       "      <td>0</td>\n",
       "      <td>0</td>\n",
       "      <td>3</td>\n",
       "    </tr>\n",
       "    <tr>\n",
       "      <td>1</td>\n",
       "      <td>1</td>\n",
       "      <td>0</td>\n",
       "    </tr>\n",
       "    <tr>\n",
       "      <td>2</td>\n",
       "      <td>2</td>\n",
       "      <td>2</td>\n",
       "    </tr>\n",
       "    <tr>\n",
       "      <td>3</td>\n",
       "      <td>3</td>\n",
       "      <td>6</td>\n",
       "    </tr>\n",
       "    <tr>\n",
       "      <td>4</td>\n",
       "      <td>4</td>\n",
       "      <td>7</td>\n",
       "    </tr>\n",
       "  </tbody>\n",
       "</table>\n",
       "</div>"
      ],
      "text/plain": [
       "   id  label\n",
       "0   0      3\n",
       "1   1      0\n",
       "2   2      2\n",
       "3   3      6\n",
       "4   4      7"
      ]
     },
     "execution_count": 21,
     "metadata": {},
     "output_type": "execute_result"
    }
   ],
   "source": [
    "dg.head()"
   ]
  },
  {
   "cell_type": "code",
   "execution_count": null,
   "metadata": {},
   "outputs": [],
   "source": [
    "dg.to_csv(\"submission.csv\", index=False)"
   ]
  }
 ],
 "metadata": {
  "kernelspec": {
   "display_name": "Python 3",
   "language": "python",
   "name": "python3"
  },
  "language_info": {
   "codemirror_mode": {
    "name": "ipython",
    "version": 3
   },
   "file_extension": ".py",
   "mimetype": "text/x-python",
   "name": "python",
   "nbconvert_exporter": "python",
   "pygments_lexer": "ipython3",
   "version": "3.7.3"
  }
 },
 "nbformat": 4,
 "nbformat_minor": 1
}
